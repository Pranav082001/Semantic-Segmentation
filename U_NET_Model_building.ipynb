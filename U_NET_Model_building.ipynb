{
 "cells": [
  {
   "cell_type": "code",
   "execution_count": 19,
   "metadata": {},
   "outputs": [],
   "source": [
    "import torch\n",
    "import torch.nn as nn\n",
    "import torchvision"
   ]
  },
  {
   "cell_type": "markdown",
   "metadata": {},
   "source": [
    "<img src=\"https://amaarora.github.io/images/unet.png\">"
   ]
  },
  {
   "cell_type": "code",
   "execution_count": 20,
   "metadata": {},
   "outputs": [],
   "source": [
    "class Block(nn.Module):\n",
    "    def __init__(self,in_channel,out_channel):\n",
    "        super().__init__()\n",
    "        self.conv1=nn.Conv2d(in_channel,out_channel,3)\n",
    "        self.relu=nn.ReLU()\n",
    "        self.conv2=nn.Conv2d(out_channel,out_channel,3)\n",
    "    def forward(self,x):\n",
    "        #return self.relu(self.conv2(self.relu(self.conv1(x))))\n",
    "        return self.relu(self.conv2(self.relu(self.conv1(x))))"
   ]
  },
  {
   "cell_type": "code",
   "execution_count": 21,
   "metadata": {},
   "outputs": [],
   "source": [
    "img=torch.rand([1,3,572,572])"
   ]
  },
  {
   "cell_type": "code",
   "execution_count": 22,
   "metadata": {},
   "outputs": [
    {
     "data": {
      "text/plain": [
       "torch.Size([1, 10, 568, 568])"
      ]
     },
     "execution_count": 22,
     "metadata": {},
     "output_type": "execute_result"
    }
   ],
   "source": [
    "blk=Block(3,10)\n",
    "blk(img).shape\n"
   ]
  },
  {
   "cell_type": "code",
   "execution_count": 29,
   "metadata": {},
   "outputs": [],
   "source": [
    "class Encoder(nn.Module):\n",
    "    def __init__(self, chs=(3,64,128,256,512,1024)):\n",
    "        super().__init__()\n",
    "        self.enc_blocks = nn.ModuleList([Block(chs[i], chs[i+1]) for i in range(len(chs)-1)])\n",
    "        self.pool       = nn.MaxPool2d(2)\n",
    "    \n",
    "    def forward(self, x):\n",
    "        ftrs = []\n",
    "        for block in self.enc_blocks:\n",
    "            x = block(x)\n",
    "            ftrs.append(x)\n",
    "            x = self.pool(x)\n",
    "        return ftrs"
   ]
  },
  {
   "cell_type": "code",
   "execution_count": 30,
   "metadata": {},
   "outputs": [],
   "source": [
    "encc=Encoder()\n",
    "encoder_out=encc(img)"
   ]
  },
  {
   "cell_type": "code",
   "execution_count": 31,
   "metadata": {},
   "outputs": [
    {
     "name": "stdout",
     "output_type": "stream",
     "text": [
      "torch.Size([1, 64, 568, 568])\n",
      "torch.Size([1, 128, 280, 280])\n",
      "torch.Size([1, 256, 136, 136])\n",
      "torch.Size([1, 512, 64, 64])\n",
      "torch.Size([1, 1024, 28, 28])\n"
     ]
    }
   ],
   "source": [
    "for o in encoder_out:\n",
    "    print(o.shape)"
   ]
  },
  {
   "cell_type": "code",
   "execution_count": 32,
   "metadata": {},
   "outputs": [],
   "source": [
    "class Decoder(nn.Module):\n",
    "    def __init__(self, chs=(1024, 512, 256, 128, 64)):\n",
    "        super().__init__()\n",
    "        self.chs= chs\n",
    "        self.upsample=nn.ModuleList([nn.ConvTranspose2d(chs[n_channel],chs[n_channel+1],2,2) for n_channel in range(len(chs)-1)])\n",
    "        self.dec_block=nn.ModuleList([Block(chs[i],chs[i+1]) for i in range(len(chs)-1)])\n",
    "        \n",
    "    def forward(self,x,encoder_features):\n",
    "        for i in range(len(self.chs)-1):\n",
    "            x=self.upsample[i](x)\n",
    "            skip_input=self.crop(encoder_features[i],x)\n",
    "            x=torch.cat([x,skip_input],dim=1)\n",
    "            x=self.dec_block[i](x)\n",
    "        return x\n",
    "    \n",
    "    def crop(self,enc_inp, x):\n",
    "        _,_,H,w=x.shape\n",
    "        enc_inp=torchvision.transforms.CenterCrop([H,w])(enc_inp)\n",
    "        return enc_inp"
   ]
  },
  {
   "cell_type": "code",
   "execution_count": 38,
   "metadata": {},
   "outputs": [
    {
     "data": {
      "text/plain": [
       "torch.Size([1, 64, 388, 388])"
      ]
     },
     "execution_count": 38,
     "metadata": {},
     "output_type": "execute_result"
    }
   ],
   "source": [
    "decoder = Decoder()\n",
    "x = torch.randn(1, 1024, 28, 28)\n",
    "decoder(x,encoder_features=encoder_out[::-1][1:]).shape"
   ]
  },
  {
   "cell_type": "code",
   "execution_count": 39,
   "metadata": {},
   "outputs": [],
   "source": [
    "class UNet(nn.Module):\n",
    "    def __init__(self, enc_chs=(3,64,128,256,512,1024), dec_chs=(1024, 512, 256, 128, 64), num_class=1, retain_dim=False, out_sz=(572,572)):\n",
    "        super().__init__()\n",
    "        self.encoder=Encoder(enc_chs)\n",
    "        self.decoder=Decoder(dec_chs)\n",
    "        self.head=nn.Conv2d(dec_chs[-1],num_class,1)\n",
    "        self.retain_dim=retain_dim\n",
    "    \n",
    "    def forward(self,x):\n",
    "        enc_out=self.encoder(x)\n",
    "        out  = self.decoder(enc_out[::-1][0], enc_out[::-1][1:])\n",
    "        out  = self.head(out)\n",
    "        if self.retain_dim:\n",
    "            out = torch.functional.interpolate(out, enc_out)\n",
    "        return out\n"
   ]
  },
  {
   "cell_type": "code",
   "execution_count": 41,
   "metadata": {},
   "outputs": [
    {
     "data": {
      "text/plain": [
       "torch.Size([1, 1, 388, 388])"
      ]
     },
     "execution_count": 41,
     "metadata": {},
     "output_type": "execute_result"
    }
   ],
   "source": [
    "unet = UNet()\n",
    "x    = torch.randn(1, 3, 572, 572)\n",
    "unet(x).shape\n"
   ]
  }
 ],
 "metadata": {
  "interpreter": {
   "hash": "e9f60db4ff86244adc67dfe08adfb557a173d89acb68785dab7d3b037297f94f"
  },
  "kernelspec": {
   "display_name": "Python 3.7.7 64-bit ('base': conda)",
   "language": "python",
   "name": "python3"
  },
  "language_info": {
   "codemirror_mode": {
    "name": "ipython",
    "version": 3
   },
   "file_extension": ".py",
   "mimetype": "text/x-python",
   "name": "python",
   "nbconvert_exporter": "python",
   "pygments_lexer": "ipython3",
   "version": "3.7.7"
  },
  "orig_nbformat": 4
 },
 "nbformat": 4,
 "nbformat_minor": 2
}
